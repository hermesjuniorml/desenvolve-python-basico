{
  "metadata": {
    "kernelspec": {
      "name": "python",
      "display_name": "Python (Pyodide)",
      "language": "python"
    },
    "language_info": {
      "codemirror_mode": {
        "name": "python",
        "version": 3
      },
      "file_extension": ".py",
      "mimetype": "text/x-python",
      "name": "python",
      "nbconvert_exporter": "python",
      "pygments_lexer": "ipython3",
      "version": "3.8"
    },
    "colab": {
      "provenance": []
    }
  },
  "nbformat_minor": 4,
  "nbformat": 4,
  "cells": [
    {
      "cell_type": "markdown",
      "source": "# Módulo 2\n\n## 2.3 Instruções e Expressões\n\n### Q1\n\nFaça um programa que armazene o valor de 20 reais de salário por hora de um trabalhador, e o número de 40 horas trabalhadas na semana. Com essas informações, calcule e imprima:\n- Salário semanal bruto\n- Valor descontado por semana INSS (10% do bruto)\n- Valor descontado por semana pelo sindicato (5% do bruto)\n- Salário semanal líquido (Bruto - Descontos)",
      "metadata": {
        "id": "1pCTdOHonv5f"
      }
    },
    {
      "cell_type": "code",
      "source": "valor_hora=20\nhoras_trabalhadas=40\nsalario_semanal_bruto=valor_hora*horas_trabalhadas\nprint(salario_semanal_bruto)\ndesc_INSS=salario_semanal_bruto*0.1\nprint(desc_INSS)\ndesc_sindicato=salario_semanal_bruto*0.05\nprint(desc_sindicato)\nsalario_semanal_liquido=salario_semanal_bruto-(desc_INSS+desc_sindicato)\nprint(salario_semanal_liquido)",
      "metadata": {
        "id": "hVbX0I97nj6M",
        "trusted": true
      },
      "outputs": [
        {
          "name": "stdout",
          "output_type": "stream",
          "text": "800\n80.0\n40.0\n680.0\n"
        }
      ],
      "execution_count": 5
    },
    {
      "cell_type": "markdown",
      "source": "### Q2\n\nAltere o programa anterior para a partir dos valores de horas trabalhadas por semana e salário por hora, calcular **em somente duas instruções**:\n- Salário semanal bruto\n- Salário semanal líquido com todos os descontos. Para a segunda instrução, realize todos os cálculos aritméticos em uma expressão composta.\n",
      "metadata": {
        "id": "pIxKX9J2oGZ1"
      }
    },
    {
      "cell_type": "code",
      "source": "valor_hora=20\nhoras_trabalhadas=40\nprint(valor_hora*horas_trabalhadas)\nprint((valor_hora*horas_trabalhadas)*0.85)",
      "metadata": {
        "id": "pAHw9Xf9oGoi",
        "trusted": true
      },
      "outputs": [
        {
          "name": "stdout",
          "output_type": "stream",
          "text": "800\n680.0\n"
        }
      ],
      "execution_count": 7
    },
    {
      "cell_type": "markdown",
      "source": "### Q3\n\nVocê está desenvolvendo um software de conversão de moeda e precisa calcular o valor equivalente em yuan chinês a partir de uma quantia em real. A taxa de câmbio é de 0.69 BRL (real) para 1 CNY (yuan). Escreva um programa que define em uma variável uma quantia em reais (BRL) e calcula o valor equivalente em yuan (CNY). Imprima o resultado.",
      "metadata": {
        "id": "m8tlHRuWpBOB"
      }
    },
    {
      "cell_type": "code",
      "source": "val_brl=100\ntaxa_cambio=0.69\nval_yuan=val_brl/taxa_cambio\nprint(val_yuan)",
      "metadata": {
        "id": "2bPw7uF6oeL9",
        "trusted": true
      },
      "outputs": [
        {
          "name": "stdout",
          "output_type": "stream",
          "text": "144.92753623188406\n"
        }
      ],
      "execution_count": 14
    },
    {
      "cell_type": "markdown",
      "source": "### Q4\n\nVocê é um treinador de corrida e deseja calcular a velocidade média que um atleta precisa manter para completar a Maratona Internacional de São Silvestre, que tem uma distância total de 42.195 km. A fórmula para calcular a velocidade média ($v\\_media$) é dada por $v\\_media = \\frac{distancia}{tempo}$ . Escreva um programa em Python para calcular a velocidade média necessária para completar a maratona em 3 horas.\n\n**Calcule e imprima o resultado em metros/segundo**, ou seja, converta a distância de quilômetros para metros ($metro = \\frac{km}{1000}$) e a velocidade de horas para segundos $(segundo = \\frac{hora}{3600})$.",
      "metadata": {
        "id": "-Na3ltDCp74A"
      }
    },
    {
      "cell_type": "code",
      "source": "distancia_km = 42.195\ntempo_horas = 3\ndistancia_metros = distancia_km * 1000\ntempo_segundos = tempo_horas * 3600\nvelocidade_media = distancia_metros / tempo_segundos\nprint(velocidade_media)",
      "metadata": {
        "id": "Bn6l8kcSrE4L",
        "trusted": true
      },
      "outputs": [
        {
          "name": "stdout",
          "output_type": "stream",
          "text": "3.9069444444444446\n"
        }
      ],
      "execution_count": 17
    }
  ]
}