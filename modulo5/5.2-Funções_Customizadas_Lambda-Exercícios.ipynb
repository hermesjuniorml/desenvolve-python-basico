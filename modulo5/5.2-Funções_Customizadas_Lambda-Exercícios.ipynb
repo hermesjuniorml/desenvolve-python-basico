{
  "metadata": {
    "kernelspec": {
      "name": "python",
      "display_name": "Python (Pyodide)",
      "language": "python"
    },
    "language_info": {
      "codemirror_mode": {
        "name": "python",
        "version": 3
      },
      "file_extension": ".py",
      "mimetype": "text/x-python",
      "name": "python",
      "nbconvert_exporter": "python",
      "pygments_lexer": "ipython3",
      "version": "3.8"
    }
  },
  "nbformat_minor": 5,
  "nbformat": 4,
  "cells": [
    {
      "id": "cbdff5a5",
      "cell_type": "markdown",
      "source": "# Módulo 5 - Funções\n\n## Aulas 5.2 - Funções Customizadas e 5.4 Funções ```lambda```",
      "metadata": {}
    },
    {
      "id": "28a3fee2",
      "cell_type": "markdown",
      "source": "### Q1.\n\n- Sabendo que o código a seguir calcula o fatorial de n, escreva uma função chamada ```fatorial()``` que recebe um inteiro ```n``` como parâmetro e retorna o resultado do fatorial de ```n```. \n- No programa principal, peça ao usuário o valor de ```n```, chame a sua função e imprima o retorno.\n\n```python\nfat = 1\nfor i in range(1, n+1):\n    fat *= i \n```",
      "metadata": {}
    },
    {
      "id": "d126b3a5",
      "cell_type": "code",
      "source": "## Crie aqui a função fatorial()\n## lembre-se de executar a célula para que \n## a função passe a existir e possa ser chamada\ndef fatorial(n):\n    resultado = 1\n    for i in range(1, n+1):\n        resultado *= i\n    return resultado",
      "metadata": {
        "trusted": true
      },
      "outputs": [],
      "execution_count": 1
    },
    {
      "id": "6e4fe64e",
      "cell_type": "code",
      "source": "## Escreva aqui o programa principal e execute a célula\nx=int(input(\"Digite o número a ser calculado fatorial\"))\nprint(fatorial(x))",
      "metadata": {
        "trusted": true
      },
      "outputs": [
        {
          "output_type": "stream",
          "name": "stdin",
          "text": "Digite o número a ser calculado fatorial 3\n"
        },
        {
          "name": "stdout",
          "output_type": "stream",
          "text": "6\n"
        }
      ],
      "execution_count": 2
    },
    {
      "id": "c0a1f599",
      "cell_type": "markdown",
      "source": "### Q2.\n\n- Escreva uma função em Python chamada ```soma_quadrados``` que recebe dois números como parâmetros e retorna a soma dos seus quadrados. \n- No programa principal solicite ao usuário que insira dois números e utilize a função para exibir a soma dos quadrados.",
      "metadata": {}
    },
    {
      "id": "6dbddaad",
      "cell_type": "code",
      "source": "## Crie aqui a função soma_quadrados()\ndef soma_quadrados(a,b):\n    return (a**2) + (b**2)",
      "metadata": {
        "trusted": true
      },
      "outputs": [],
      "execution_count": 6
    },
    {
      "id": "9175a7da",
      "cell_type": "code",
      "source": "## Escreva aqui o programa principal e execute a célula\nx=int(input(\"Insira o primeiro número: \"))\ny=int(input(\"Insira o segundo número: \"))\nprint(soma_quadrados(x,y))",
      "metadata": {
        "trusted": true
      },
      "outputs": [
        {
          "output_type": "stream",
          "name": "stdin",
          "text": "Insira o primeiro número:  3\nInsira o segundo número:  4\n"
        },
        {
          "name": "stdout",
          "output_type": "stream",
          "text": "25\n"
        }
      ],
      "execution_count": 7
    },
    {
      "id": "6ba34ce0",
      "cell_type": "markdown",
      "source": "### Q3.\n\n- Crie uma função em Python chamada ```soma_digitos``` que recebe um número inteiro como parâmetro e retorna a soma dos seus dígitos. Por exemplo, para o número 123, a função deve retornar 6, $(1 + 2 + 3)$.\n    - O desafio aqui é separar os dígitos de um número inteiro usando operações aritméticas <br> <br>\n\n- No programa principal solicite ao usuário que insira um número e utilize a função ```soma_digitos``` para calcular e exibir a soma dos seus dígitos.",
      "metadata": {}
    },
    {
      "id": "34838ebf",
      "cell_type": "code",
      "source": "## Crie aqui a função soma_digitos()\ndef soma_digitos(n):\n    n_abs = abs(n)\n    soma = 0\n    while n_abs > 0:\n        soma += n_abs % 10\n        n_abs //= 10\n    return soma",
      "metadata": {
        "trusted": true
      },
      "outputs": [],
      "execution_count": 9
    },
    {
      "id": "27c35b21",
      "cell_type": "code",
      "source": "## Escreva aqui o programa principal e execute a célula\nnumero=int(input(\"Insira o número que terá os digitos somados: \"))\nprint(soma_digitos(numero))",
      "metadata": {
        "trusted": true
      },
      "outputs": [
        {
          "output_type": "stream",
          "name": "stdin",
          "text": "Insira o número que terá os digitos somados:  123\n"
        },
        {
          "name": "stdout",
          "output_type": "stream",
          "text": "6\n"
        }
      ],
      "execution_count": 10
    },
    {
      "id": "c318b159",
      "cell_type": "markdown",
      "source": "### Q4.\n\n- Crie a função ```inverteValor()``` que recebe um inteiro de qualquer tamanho e retorna esse valor invertido usando apenas operações aritméticas\n- Crie a função ```verificaInverso()``` que recebe o valor original e o valor invertido e retorna verdadeiro se ambos forem igualmente par ou igualmente ímpar. Retorne falso caso contrário.\n- No programa principal, peça um valor do usuário e imprima o retorno de ambas as funções.\n",
      "metadata": {}
    },
    {
      "id": "e4e47d1d",
      "cell_type": "code",
      "source": "## Crie aqui as funções inverteValor() e verificaInverso()\n\ndef inverteValor(n):\n    n_abs = abs(n)\n    invertido = 0\n    while n_abs > 0:\n        invertido = invertido * 10 + (n_abs % 10)\n        n_abs //= 10\n    return invertido if n >= 0 else -invertido\n\ndef verificaInverso(orig, inv):\n    return (orig % 2 == inv % 2)",
      "metadata": {
        "trusted": true
      },
      "outputs": [],
      "execution_count": 11
    },
    {
      "id": "a9514e56",
      "cell_type": "code",
      "source": "## Escreva aqui o programa principal e execute a célula\nnum=int(input(\"Digite o numero\"))\ninvertido_num=inverteValor(num)\nprint(invertido_num)\nprint(verificaInverso(num, invertido_num))",
      "metadata": {
        "trusted": true
      },
      "outputs": [
        {
          "output_type": "stream",
          "name": "stdin",
          "text": "Digite o numero 345\n"
        },
        {
          "name": "stdout",
          "output_type": "stream",
          "text": "543\nTrue\n"
        }
      ],
      "execution_count": 16
    },
    {
      "id": "329be966",
      "cell_type": "markdown",
      "source": "### Q5.\n\nVocê está desenvolvendo um programa para auxiliar em cálculos de geometria básica. Crie as seguintes funções:\n- A função ```calcula_perimetro_triangulo()``` que recebe três inteiros correspondentes aos lados de um triângulo e retorna o perímetro do triângulo, ou seja, a soma dos seus lados.\n- A função ```calcula_perimetro_circulo()``` que recebe um inteiro referente ao raio do círculo e retorna o perímetro do círculo, dado por $2 \\pi r$. Use a constante $\\pi$ da biblioteca ```math```.\n- A função ```calcula_perimetro_retangulo()``` que possui um parâmetro obrigatório ```lado1``` e um opcional ```lado2```, ambos inteiros. Se o valor opcional não for fornecido, significa que se trata de um quadrado. Sua função deve calcular e retornar o perímetro do retângulo, ou seja, a soma de seus lados. \n    - Para o quadrado, é dado por $4 \\times lado1$\n    - Para o retângulo é dado por $2 \\times lado1 + 2 \\times lado2$\n    \n- No programa principal apresente um menu com as opções disponíveis do seu sistema e uma quarta opção ```Sair```. Solicite ao usuário a opção desejada, solicite as entradas correspondentes à opção escolhida, invoque a respective função e apresente o seu retorno. Seu programa deve retornar ao menu até que o usuário escolha a opção ```Sair```\n\nExemplo de interação:\n```\n1 - Calcular perímetro triângulo\n2 - Calcular perímetro círculo\n3 - Calcular perímetro retângulo\n4 - Sair\n\nOpção: 1\nDigite os três lados do triângulo:\n3\n4\n5\nO perímetro é: 12\n\n1 - Calcular perímetro triângulo\n2 - Calcular perímetro círculo\n3 - Calcular perímetro retângulo\n4 - Sair\n\nOpção: 3\nInforme os dois lados do retângulo. Se for um quadrado, digite 0 para o segundo valor:\n5\n0\nO perímetro é: 20\n\n1 - Calcular perímetro triângulo\n2 - Calcular perímetro círculo\n3 - Calcular perímetro retângulo\n4 - Sair\n\nOpção: 4\n```",
      "metadata": {}
    },
    {
      "id": "0793d328",
      "cell_type": "code",
      "source": "## Crie aqui as funções \n\nimport math\n\ndef calcula_perimetro_triangulo(a,b,c):\n    return a + b + c\n\ndef calcula_perimetro_circulo(r):\n    return 2 * math.pi * r\n\ndef calcula_perimetro_retangulo(lado1, lado2=0):\n    if lado2 == 0:\n        return 4 * lado1\n    else:\n        return 2 * lado1 + 2 * lado2",
      "metadata": {
        "trusted": true
      },
      "outputs": [],
      "execution_count": 23
    },
    {
      "id": "36269c71",
      "cell_type": "code",
      "source": "## Escreva aqui o programa principal \ncod=0\nwhile cod!=4:\n    print(\"1 - Calcular perímetro triângulo\\n2 - Calcular perímetro círculo\\n3 - Calcular perímetro retângulo\\n4 - Sair\")\n    cod=int(input())\n    print(f\"Opção: {cod}\")\n    match cod:\n        case 1:\n            print(\"Digite os três lados do triângulo: \")\n            x = int(input())\n            y=int(input())\n            z=int(input())\n            print(f\"O perímetro é: {calcula_perimetro_triangulo(x,y,z)}\")\n        case 2:\n            print(\"Insira valor do raio: \")\n            r=int(input())\n            print(f\"O perímetro é: {calcula_perimetro_circulo(r)}\")\n        case 3:\n            print(\"Informe os dois lados do retângulo. Se for um quadrado, digite 0 para o segundo valor: \")\n            l1=int(input())\n            l2=int(input())\n            print(f\"O perímetro é: {calcula_perimetro_retangulo(l1,l2)}\")\n        case _:\n            break\nprint(\"fim\")",
      "metadata": {
        "trusted": true
      },
      "outputs": [
        {
          "name": "stdout",
          "output_type": "stream",
          "text": "1 - Calcular perímetro triângulo\n2 - Calcular perímetro círculo\n3 - Calcular perímetro retângulo\n4 - Sair\n"
        },
        {
          "output_type": "stream",
          "name": "stdin",
          "text": " 1\n"
        },
        {
          "name": "stdout",
          "output_type": "stream",
          "text": "Opção: 1\nDigite os três lados do triângulo: \n"
        },
        {
          "output_type": "stream",
          "name": "stdin",
          "text": " 3\n 4\n 5\n"
        },
        {
          "name": "stdout",
          "output_type": "stream",
          "text": "O perímetro é: 12\n1 - Calcular perímetro triângulo\n2 - Calcular perímetro círculo\n3 - Calcular perímetro retângulo\n4 - Sair\n"
        },
        {
          "output_type": "stream",
          "name": "stdin",
          "text": " 2\n"
        },
        {
          "name": "stdout",
          "output_type": "stream",
          "text": "Opção: 2\nInsira valor do raio: \n"
        },
        {
          "output_type": "stream",
          "name": "stdin",
          "text": " 1\n"
        },
        {
          "name": "stdout",
          "output_type": "stream",
          "text": "O perímetro é: 6.283185307179586\n1 - Calcular perímetro triângulo\n2 - Calcular perímetro círculo\n3 - Calcular perímetro retângulo\n4 - Sair\n"
        },
        {
          "output_type": "stream",
          "name": "stdin",
          "text": " 3\n"
        },
        {
          "name": "stdout",
          "output_type": "stream",
          "text": "Opção: 3\nInforme os dois lados do retângulo. Se for um quadrado, digite 0 para o segundo valor: \n"
        },
        {
          "output_type": "stream",
          "name": "stdin",
          "text": " 5\n 0\n"
        },
        {
          "name": "stdout",
          "output_type": "stream",
          "text": "O perímetro é: 20\n1 - Calcular perímetro triângulo\n2 - Calcular perímetro círculo\n3 - Calcular perímetro retângulo\n4 - Sair\n"
        },
        {
          "output_type": "stream",
          "name": "stdin",
          "text": " 3\n"
        },
        {
          "name": "stdout",
          "output_type": "stream",
          "text": "Opção: 3\nInforme os dois lados do retângulo. Se for um quadrado, digite 0 para o segundo valor: \n"
        },
        {
          "output_type": "stream",
          "name": "stdin",
          "text": " 3\n 4\n"
        },
        {
          "name": "stdout",
          "output_type": "stream",
          "text": "O perímetro é: 14\n1 - Calcular perímetro triângulo\n2 - Calcular perímetro círculo\n3 - Calcular perímetro retângulo\n4 - Sair\n"
        },
        {
          "output_type": "stream",
          "name": "stdin",
          "text": " 4\n"
        },
        {
          "name": "stdout",
          "output_type": "stream",
          "text": "Opção: 4\nfim\n"
        }
      ],
      "execution_count": 27
    },
    {
      "id": "3016bcc7",
      "cell_type": "markdown",
      "source": "## Funções ```lambda```",
      "metadata": {}
    },
    {
      "id": "f9cdb8dd",
      "cell_type": "markdown",
      "source": "### Q6.\n\nCrie uma função lambda para verificar se um número é par ou ímpar. Em seguida, solicite ao usuário um número indefinidos de valores (até que o usuário digite 0). Para cada valor de entrada, informe se é par ou ímpar.\n\nExemplo de interação:\n```\nDigite os valores que deseja verificar a paridade (digite 0 para finalizar a entrada de dados):\n3\nímpar\n8\npar\n12\npar\n5\nímpar\n7ímpar\n```",
      "metadata": {}
    },
    {
      "id": "e3c31a78",
      "cell_type": "code",
      "source": "x=99999\nprint(\"Digite os valores que deseja verificar a paridade (digite 0 para finalizar a entrada de dados:\")\nwhile x != 0 :\n    x=int(input())\n    print(f\"{'par' if (lambda y:y%2==0)(x) else 'impar'}\")\n    ",
      "metadata": {
        "trusted": true
      },
      "outputs": [
        {
          "name": "stdout",
          "output_type": "stream",
          "text": "Digite os valores que deseja verificar a paridade (digite 0 para finalizar a entrada de dados:\n"
        },
        {
          "output_type": "stream",
          "name": "stdin",
          "text": " 8\n"
        },
        {
          "name": "stdout",
          "output_type": "stream",
          "text": "par\n"
        },
        {
          "output_type": "stream",
          "name": "stdin",
          "text": " 3\n"
        },
        {
          "name": "stdout",
          "output_type": "stream",
          "text": "impar\n"
        },
        {
          "output_type": "stream",
          "name": "stdin",
          "text": " 4\n"
        },
        {
          "name": "stdout",
          "output_type": "stream",
          "text": "par\n"
        },
        {
          "output_type": "stream",
          "name": "stdin",
          "text": " 5\n"
        },
        {
          "name": "stdout",
          "output_type": "stream",
          "text": "impar\n"
        },
        {
          "output_type": "stream",
          "name": "stdin",
          "text": " 7\n"
        },
        {
          "name": "stdout",
          "output_type": "stream",
          "text": "impar\n"
        },
        {
          "output_type": "stream",
          "name": "stdin",
          "text": " 1\n"
        },
        {
          "name": "stdout",
          "output_type": "stream",
          "text": "impar\n"
        },
        {
          "output_type": "stream",
          "name": "stdin",
          "text": " 2\n"
        },
        {
          "name": "stdout",
          "output_type": "stream",
          "text": "par\n"
        },
        {
          "output_type": "stream",
          "name": "stdin",
          "text": " 1000\n"
        },
        {
          "name": "stdout",
          "output_type": "stream",
          "text": "par\n"
        },
        {
          "output_type": "stream",
          "name": "stdin",
          "text": " 0\n"
        },
        {
          "name": "stdout",
          "output_type": "stream",
          "text": "par\n"
        }
      ],
      "execution_count": 29
    },
    {
      "id": "5a87474d",
      "cell_type": "markdown",
      "source": "### Q7.\n\nEscreva um programa que pergunte ao usuário qual operação ele deseja: maior ou menor.\nEm seguida leia uma quantidade indefinida de valores do usuário, até que o usuário digite o valor zero.\nApresente ao final o maior ou menor dos valores digitados de acordo com a escolha do usuário.\n\n**Sua solução deve incluir pelo menos uma função ```lambda```** \n\nExemplo de interação:\n```\nOpções: (1) maior ou (2) menor?\nOpção: 1\n\nDigite os valores de entrada. Digite 0 para finalizar a entrada de valores.\n4\n12\n15\n1\n0\n\nO maior valor é: 15\n```",
      "metadata": {}
    },
    {
      "id": "ee3f68ca",
      "cell_type": "code",
      "source": "## Escreva aqui o programa principal \nopt=int(input(\"Opções: (1) maior ou (2) menor?\"))\nprint(f\"Opção: {opt}\")\nprint(\"Digite os valores de entrada. Digite 0 para finalizar a entrada de valores.\")\nverifica_menor=lambda a,b: a if a < b else b\nverifica_maior=lambda a,b: a if a > b else b\narmazena=0\nx=99999\nwhile x !=0:\n    x=int(input())\n    if(opt==1):\n        armazena=verifica_maior(int(armazena), x)\n    else:\n        armazena=verifica_menor(int(armazena),x)\n\nprint(f\"O {'maior' if (opt==1) else 'menor'} é {armazena} \")",
      "metadata": {
        "trusted": true
      },
      "outputs": [
        {
          "output_type": "stream",
          "name": "stdin",
          "text": "Opções: (1) maior ou (2) menor? 2\n"
        },
        {
          "name": "stdout",
          "output_type": "stream",
          "text": "Opção: 2\nDigite os valores de entrada. Digite 0 para finalizar a entrada de valores.\n"
        },
        {
          "output_type": "stream",
          "name": "stdin",
          "text": " -3\n 3453\n -222\n 1\n 0\n"
        },
        {
          "name": "stdout",
          "output_type": "stream",
          "text": "O menor é -222 \n"
        }
      ],
      "execution_count": 35
    },
    {
      "id": "c6497c1c-f2e8-4310-9616-634bb965eb6d",
      "cell_type": "code",
      "source": "",
      "metadata": {
        "trusted": true
      },
      "outputs": [],
      "execution_count": null
    }
  ]
}