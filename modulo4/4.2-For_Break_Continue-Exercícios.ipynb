{
  "metadata": {
    "kernelspec": {
      "name": "python",
      "display_name": "Python (Pyodide)",
      "language": "python"
    },
    "language_info": {
      "codemirror_mode": {
        "name": "python",
        "version": 3
      },
      "file_extension": ".py",
      "mimetype": "text/x-python",
      "name": "python",
      "nbconvert_exporter": "python",
      "pygments_lexer": "ipython3",
      "version": "3.8"
    }
  },
  "nbformat_minor": 5,
  "nbformat": 4,
  "cells": [
    {
      "id": "29e89030",
      "cell_type": "markdown",
      "source": "# Módulo 4 - Repetições\n\n## Aulas 4.2 - Comando ```for``` e 4.3 Break e Continue",
      "metadata": {}
    },
    {
      "id": "a45b42df",
      "cell_type": "markdown",
      "source": "### Q1.\n\nCrie um programa em Python que utilize o comando for para imprimir os números de 10 a 1, em ordem decrescente.",
      "metadata": {}
    },
    {
      "id": "55a75b3d",
      "cell_type": "code",
      "source": "## Escreva e execute seu código aqui\nfor i in range(10, 0, -1):\n    print(i)",
      "metadata": {
        "trusted": true
      },
      "outputs": [
        {
          "name": "stdout",
          "output_type": "stream",
          "text": "10\n9\n8\n7\n6\n5\n4\n3\n2\n1\n"
        }
      ],
      "execution_count": 3
    },
    {
      "id": "94b47c36",
      "cell_type": "markdown",
      "source": "### Q2.\n\nDado um número inteiro positivo informado pelo usuário, crie um programa em Python que utilize o comando for para calcular e exibir a soma dos números de 1 até o número informado. Ou seja, $1 + 2 + 3 + ... + n$\n\nExemplo de interação:\n```\nDigite um número: 5\nA soma dos números de 1 a 5 é 15\n```\n",
      "metadata": {}
    },
    {
      "id": "45b71596",
      "cell_type": "code",
      "source": "## Escreva e execute seu código aqui\nn = int(input(\"Insira um número para obter o somatório de 1 até o mesmo: \"))\nsoma=0\nfor i in range(n+1):\n    soma= soma + i\nprint(f\"A soma dos números de 1 a {n} é {soma}\")",
      "metadata": {
        "trusted": true
      },
      "outputs": [
        {
          "output_type": "stream",
          "name": "stdin",
          "text": "Insira um número para obter o somatório de 1 até o mesmo:  5\n"
        },
        {
          "name": "stdout",
          "output_type": "stream",
          "text": "A soma dos números de 1 a 5 é 15\n"
        }
      ],
      "execution_count": 17
    },
    {
      "id": "0411d170",
      "cell_type": "markdown",
      "source": "### Q3.\n\nEscreva um programa que lê 10 valores inteiros positivos do usuário e ao final imprime a média dos valores digitados com duas casas decimais.\n\n```\nDigite 10 números positivos:\n3\n2\n12\n14\n20\n42\n19\n0\n8\n1\nA média dos valores digitados é 12.10\n```",
      "metadata": {}
    },
    {
      "id": "3f72f358",
      "cell_type": "code",
      "source": "## Escreva e execute seu código aqui\ntotal=0\nprint(\"Digite 10 números positivos\")\nfor i in range(10):\n    x=int(input())\n    total+=x\nprint(f\"A média dos valores digitados é {total/10:.2f}\")",
      "metadata": {
        "trusted": true
      },
      "outputs": [
        {
          "name": "stdout",
          "output_type": "stream",
          "text": "Digite 10 números positivos\n"
        },
        {
          "output_type": "stream",
          "name": "stdin",
          "text": " 3\n 2\n 12\n 14\n 20\n 42\n 19\n 0\n 8\n 1\n"
        },
        {
          "name": "stdout",
          "output_type": "stream",
          "text": "A média dos valores digitados é 12.10\n"
        }
      ],
      "execution_count": 20
    },
    {
      "id": "d62e27ff",
      "cell_type": "markdown",
      "source": "### Q4.\n\nVocê vai criar um sistema que registra os resultados dos jogos do Atlético MG ao longo de um campeonato. Seu sistema vai receber os resultados de todos os jogos do Galo, e deve calcular a pontuação do time sabendo que vitórias valem 3 pontos, empates 1 ponto e derrotas 0 pontos.\n\nEntrada: <br>\nA primeira linha de entrada é um inteiro N com a quantidade jogos do galo. Para cada jogo você deve ler 2 inteiros, o primeiro com a quantidade de gols do galo e o segundo com a quantidade de gols do time oponente. \n\nSaída: <br>\nApresente a soma de vitórias, empates e derrotas do galo, junto com o cálculo da pontuação total.\n\nEx:\n```\nEntrada:\n4\n2\n0\n1\n1\n0\n3\n1\n0\n\nSaída:\nVitórias: 2\nEmpates: 1\nDerrotas: 1\nPontuação: 7\n\n```\n\n\n",
      "metadata": {}
    },
    {
      "id": "d3fdfc2a",
      "cell_type": "code",
      "source": "## Escreva e execute seu código aqui\nn=int(input(\"Digite o número de jogos: \"))\nvitorias=0\nderrotas=0\nempates=0\nfor i in range(n):\n    gols_atletico=int(input(\"Digite o número de gols do time: \"))\n    gols_adversario=int(input(\"Digite o número de gols do adversário: \"))\n    if (gols_atletico > gols_adversario):\n        vitorias+=1\n    elif(gols_atletico < gols_adversario):\n        derrotas+=1\n    else:\n        empates+=1\nprint(f\"Vitórias: {vitorias}\")\nprint(f\"Empates: {empates}\")\nprint(f\"Derrotas: {derrotas}\")\nprint(f\"Pontuação: { vitorias*3 + empates}\")",
      "metadata": {
        "trusted": true
      },
      "outputs": [
        {
          "output_type": "stream",
          "name": "stdin",
          "text": "Digite o número de jogos:  4\nDigite o número de gols do time:  2\nDigite o número de gols do adversário:  0\nDigite o número de gols do time:  1\nDigite o número de gols do adversário:  1\nDigite o número de gols do time:  0\nDigite o número de gols do adversário:  3\nDigite o número de gols do time:  1\nDigite o número de gols do adversário:  0\n"
        },
        {
          "name": "stdout",
          "output_type": "stream",
          "text": "Vitórias: 2\nEmpates: 1\nDerrotas: 1\nPontuação: 7\n"
        }
      ],
      "execution_count": 27
    },
    {
      "id": "fc98604d",
      "cell_type": "markdown",
      "source": "### Q5.\n\nFaça um programa que lê dois inteiros N e M, e imprime na tela um campo de batalha naval. O tabuleiro deve possuir N linhas e M colunas. A primeira linha é composta por um espaço em branco e o cabeçalho das colunas, ou seja, valores de 1 a M. As N linhas seguintes iniciam com o cabeçalho da linha, ou seja, seu número, seguido de M caracteres \"/\" (barra) indicando uma possível posição jogável. \n\n```\nEntrada:\n5\n4\n\nSaída:\n  1 2 3 4 \n1 / / / / \n2 / / / / \n3 / / / / \n4 / / / / \n5 / / / / \n```\n\nPara esse exercício, precisamos lembrar que o comando print implicitamente adiciona uma quebra de linha ao final da impressão. Podemos interferir no final da impressão adicionando mais uma entrada ao print. No exemplo, finalizamos cada linha com um espaço em branco:\n```python\nprint(\"Texto qualquer\", end = \" \")\n```",
      "metadata": {}
    },
    {
      "id": "a60ef197",
      "cell_type": "code",
      "source": "## Escreva e execute seu código aqui\nn=int(input())\nm=int(input())\nprint(\" \", end=\" \")\nfor i in range(m):\n    print(f\"{i+1}\",end =\" \")\nprint(\"\")\nfor j in range(n):\n    print(j+1, end=\" \")\n    for k in range(m):\n        if( (k+1) == (m) ):\n            print(f\"/\", end=\"\\n\")\n        else:\n            print(f\"/\", end=\" \")\n        ",
      "metadata": {
        "trusted": true
      },
      "outputs": [
        {
          "output_type": "stream",
          "name": "stdin",
          "text": " 5\n 4\n"
        },
        {
          "name": "stdout",
          "output_type": "stream",
          "text": "  1 2 3 4 \n1 / / / /\n2 / / / /\n3 / / / /\n4 / / / /\n5 / / / /\n"
        }
      ],
      "execution_count": 53
    },
    {
      "id": "4654dc0b",
      "cell_type": "markdown",
      "source": "---\n## Break e Continue",
      "metadata": {}
    },
    {
      "id": "24fe9d85",
      "cell_type": "markdown",
      "source": "### Q6.\n\nEscreva um programa que lê uma quantidade indefinida de valores e informa o maior e o menor valor digitados. A leitura é encerrada quando o usuário digitar o valor 0 (zero).\n\n```\nEntrada:\n12\n-1\n29\n11\n-5\n0\n\nSaída:\nMaior: 29\nMenor: -5\n```",
      "metadata": {}
    },
    {
      "id": "ee1c466a",
      "cell_type": "code",
      "source": "## Escreva e execute seu código aqui\nmaior=-99999999\nmenor=+99999999\nwhile True:\n    x=int(input())\n    if(x==0):\n        break\n    if(x < menor):\n        menor=x\n    if(x > maior):\n        maior=x\nprint(f\"Maior: {maior}\")\nprint(f\"Menor: {menor}\")",
      "metadata": {
        "trusted": true
      },
      "outputs": [
        {
          "output_type": "stream",
          "name": "stdin",
          "text": " 12\n -1\n 29\n 11\n -5\n 0\n"
        },
        {
          "name": "stdout",
          "output_type": "stream",
          "text": "Maior: 29\nMenor: -5\n"
        }
      ],
      "execution_count": 61
    },
    {
      "id": "30d486f7",
      "cell_type": "markdown",
      "source": "### Q7.\n\nEscreva um programa que lê uma quantidade indefinida de valores e informa o **produto** dos valores positivos digitados. A leitura é encerrada quando o usuário digitar o valor 0 (zero).\n\n```\nEntrada:\n2\n-1\n1\n3\n-5\n0\n\nSaída:\nProduto: 6\n```",
      "metadata": {}
    },
    {
      "id": "2f1ac324",
      "cell_type": "code",
      "source": "## Escreva e execute seu código aqui\n## SE FOR PRODUTO... \nproduto=1\nwhile True:\n    x=int(input())\n    if(x==0):\n        break\n    produto=x*produto\n   \nprint(f\"Produto: {produto}\")\n          \n    ",
      "metadata": {
        "trusted": true
      },
      "outputs": [
        {
          "output_type": "stream",
          "name": "stdin",
          "text": " 2\n -1\n 1\n 3\n 5\n 0\n"
        },
        {
          "name": "stdout",
          "output_type": "stream",
          "text": "Produto: -30\n"
        }
      ],
      "execution_count": 69
    },
    {
      "id": "e932f3cf",
      "cell_type": "markdown",
      "source": "### Q8.\n\nVamos fazer uma calculadora que aceita expressões aritméticas de qualquer tamanho até que o usuário digite a palavra \"Fim\". Sua calculadora executa apenas as operações \"+\", \"-\".\n\n```\nEntrada:\n5\n+\n8\n-\n3\n+\n2\nFim\n\nSaída:\n12\n```",
      "metadata": {}
    },
    {
      "id": "e835d870",
      "cell_type": "code",
      "source": "## Escreva e execute seu código aqui\ninicial=int(input())\nwhile True:\n    operador=str(input())\n   \n    if(operador =='Fim'):\n        break\n    operando=int(input())\n    if(operando == 'Fim'):\n        break\n    if(operador == '-'):\n        inicial-=operando\n    elif(operador == '+'):\n        inicial+=operando\nprint(inicial)",
      "metadata": {
        "trusted": true
      },
      "outputs": [
        {
          "output_type": "stream",
          "name": "stdin",
          "text": " 5\n +\n 8\n -\n 3\n +\n 2\n Fim\n"
        },
        {
          "name": "stdout",
          "output_type": "stream",
          "text": "12\n"
        }
      ],
      "execution_count": 83
    },
    {
      "id": "39219549-18a2-4f07-9bb4-e3318a86bcf0",
      "cell_type": "code",
      "source": "",
      "metadata": {
        "trusted": true
      },
      "outputs": [],
      "execution_count": null
    }
  ]
}